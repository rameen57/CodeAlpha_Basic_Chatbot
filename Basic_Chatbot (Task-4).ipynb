{
 "cells": [
  {
   "cell_type": "code",
   "execution_count": null,
   "id": "846d904d-88e2-4fc0-8531-4210419a791e",
   "metadata": {},
   "outputs": [],
   "source": []
  }
 ],
 "metadata": {
  "kernelspec": {
   "display_name": "",
   "name": ""
  },
  "language_info": {
   "name": ""
  }
 },
 "nbformat": 4,
 "nbformat_minor": 5
}
